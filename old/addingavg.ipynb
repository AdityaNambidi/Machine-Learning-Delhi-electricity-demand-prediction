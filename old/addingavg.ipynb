{
 "cells": [
  {
   "cell_type": "code",
   "execution_count": 2,
   "metadata": {},
   "outputs": [],
   "source": [
    "import csv\n",
    "\n",
    "\n",
    "\n",
    "with open(\"Data3.csv\", newline='') as f:\n",
    "    readerh = csv.reader(f)\n",
    "    data = list(readerh)"
   ]
  },
  {
   "cell_type": "code",
   "execution_count": 13,
   "metadata": {},
   "outputs": [],
   "source": [
    "nhd = [[sublist[_] for _ in range(len(sublist))] for sublist in data]\n",
    "\n",
    "\n",
    "\n",
    "i = -1\n",
    "dt=0\n",
    "avg = 0\n",
    "prevAvg = 0\n",
    "for r in data:\n",
    "    i+=1\n",
    "    if i == 0: continue\n",
    "\n",
    "    if i > 24:\n",
    "        nhd[i].append(str(prevAvg))\n",
    "\n",
    "    ed = r[-1]\n",
    "    avg+=float(ed)\n",
    "    dt+=1\n",
    "    if dt == 24:\n",
    "        dt=0\n",
    "        avg /= 24\n",
    "        prevAvg = avg\n",
    "        avg= 0\n",
    "        \n",
    "\n",
    "\n",
    "\n",
    "\n",
    "\n",
    "\n",
    "\n"
   ]
  },
  {
   "cell_type": "code",
   "execution_count": 14,
   "metadata": {},
   "outputs": [],
   "source": [
    "with open(\"Data4.csv\", 'w', newline='') as f:\n",
    "    wr = csv.writer(f, delimiter=',')\n",
    "    wr.writerows(nhd)"
   ]
  },
  {
   "cell_type": "code",
   "execution_count": 3,
   "metadata": {},
   "outputs": [],
   "source": [
    "# month section\n",
    "\n",
    "with open(\"MonthlyData.csv\", newline='') as f:\n",
    "    readerh = csv.reader(f)\n",
    "    data = list(readerh)"
   ]
  },
  {
   "cell_type": "code",
   "execution_count": null,
   "metadata": {},
   "outputs": [],
   "source": [
    "nhd = [[sublist[_] for _ in range(len(sublist))] for sublist in data]\n",
    "\n",
    "\n",
    "i = -1\n",
    "prevE = 0\n",
    "for r in data:\n",
    "    i+=1\n",
    "    if i == 0: continue\n",
    "\n",
    "    if i == 1: \n",
    "        prevE = r[-1]\n",
    "        continue\n",
    "    \n",
    "\n"
   ]
  }
 ],
 "metadata": {
  "kernelspec": {
   "display_name": "Python 3",
   "language": "python",
   "name": "python3"
  },
  "language_info": {
   "codemirror_mode": {
    "name": "ipython",
    "version": 3
   },
   "file_extension": ".py",
   "mimetype": "text/x-python",
   "name": "python",
   "nbconvert_exporter": "python",
   "pygments_lexer": "ipython3",
   "version": "3.10.0"
  }
 },
 "nbformat": 4,
 "nbformat_minor": 2
}
